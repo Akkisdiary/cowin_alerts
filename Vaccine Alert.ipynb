{
 "cells": [
  {
   "cell_type": "code",
   "execution_count": 102,
   "metadata": {
    "scrolled": true
   },
   "outputs": [
    {
     "data": {
      "text/plain": [
       "(235, b'2.7.0 Accepted')"
      ]
     },
     "execution_count": 102,
     "metadata": {},
     "output_type": "execute_result"
    }
   ],
   "source": [
    "import requests\n",
    "import json\n",
    "import datetime\n",
    "import pandas as pd\n",
    "import smtplib\n",
    "s = smtplib.SMTP('smtp.gmail.com', 587)\n",
    "s.starttls()\n",
    "s.login(\"mundadaga@gmail.com\", \"Mundada@9689939131\")"
   ]
  },
  {
   "cell_type": "code",
   "execution_count": 112,
   "metadata": {},
   "outputs": [],
   "source": [
    "import time\n",
    "def fetchData(pincode,date):\n",
    "    api_url = \"https://cdn-api.co-vin.in/api/v2/appointment/sessions/public/calendarByPin\"\n",
    "    params = {\n",
    "    'pincode':pincode,\n",
    "    'date':date\n",
    "    }\n",
    "    headers = { \n",
    "    'User-Agent': 'Mozilla/5.0 (Windows NT 10.0; Win64; x64) AppleWebKit/537.36 (KHTML, like Gecko) Chrome/90.0.4430.93 Safari/537.36',\n",
    "    }\n",
    "    r= requests.get(url=api_url,params=params, headers=headers)\n",
    "    return r "
   ]
  },
  {
   "cell_type": "code",
   "execution_count": 113,
   "metadata": {},
   "outputs": [],
   "source": [
    "def send_email(msg):\n",
    "    message = \"\"\"\\\n",
    "    Subject: Vaccine_Alert_Jalna\n",
    "\n",
    "    Hello,\n",
    "\n",
    "    Please find below details for vaccines in jalna\n",
    "    \"\"\"+str(msg)\n",
    "    recipients = ['gopishmundada@gmail.com', 'bittumundada@gmail.com']\n",
    "\n",
    "    # sending the mail\n",
    "    s.sendmail(\"mundadaga@gmail.com\", recipients, message)"
   ]
  },
  {
   "cell_type": "code",
   "execution_count": 114,
   "metadata": {},
   "outputs": [],
   "source": [
    "def create_msg(base_date,jsonData):\n",
    "    msg = \"\"\n",
    "    for x in range (len(jsonData['centers'])):\n",
    "        for y in range (len(jsonData['centers'][x]['sessions'])):\n",
    "            if(jsonData['centers'][x]['sessions'][y]['available_capacity']>0):\n",
    "                x_Location = \"Location: \"+str(jsonData['centers'][x][\"name\"])+\", \"+str(jsonData['centers'][x][\"address\"])+\", \"+\\\n",
    "                str(jsonData['centers'][x][\"district_name\"])+\", \"+str(jsonData['centers'][x][\"pincode\"])\n",
    "                x_capacity = \"available_capacity: \"+str(jsonData['centers'][x]['sessions'][y]['available_capacity'])\n",
    "                x_age = \"Age: \"+str(jsonData['centers'][x]['sessions'][y]['min_age_limit'])+\"+\"\n",
    "                x_vaccine = \"Vaccine: \"+str(jsonData['centers'][x]['sessions'][y]['vaccine'])\n",
    "                msg = \"Date:\"+str(base_date)+\"\\n\\t\"+x_Location+\"\\n\\t\"+x_capacity+\"\\n\\t\"+x_age+\"\\n\\t\"+x_vaccine+\"\\n\\n\"\n",
    "                send_email(msg)"
   ]
  },
  {
   "cell_type": "code",
   "execution_count": 117,
   "metadata": {
    "scrolled": true
   },
   "outputs": [
    {
     "name": "stdout",
     "output_type": "stream",
     "text": [
      "Hii\n",
      "Hii after sleep\n",
      "Hii\n"
     ]
    },
    {
     "ename": "KeyboardInterrupt",
     "evalue": "",
     "output_type": "error",
     "traceback": [
      "\u001b[0;31m---------------------------------------------------------------------------\u001b[0m",
      "\u001b[0;31mKeyboardInterrupt\u001b[0m                         Traceback (most recent call last)",
      "\u001b[0;32m<ipython-input-117-a4d17ce779f3>\u001b[0m in \u001b[0;36m<module>\u001b[0;34m\u001b[0m\n\u001b[1;32m      9\u001b[0m     \u001b[0mcreate_msg\u001b[0m\u001b[0;34m(\u001b[0m\u001b[0mdata_tomorrow\u001b[0m\u001b[0;34m,\u001b[0m\u001b[0mjsonData\u001b[0m\u001b[0;34m)\u001b[0m\u001b[0;34m\u001b[0m\u001b[0;34m\u001b[0m\u001b[0m\n\u001b[1;32m     10\u001b[0m     \u001b[0mprint\u001b[0m\u001b[0;34m(\u001b[0m\u001b[0;34m\"Hii\"\u001b[0m\u001b[0;34m)\u001b[0m\u001b[0;34m\u001b[0m\u001b[0;34m\u001b[0m\u001b[0m\n\u001b[0;32m---> 11\u001b[0;31m     \u001b[0mtime\u001b[0m\u001b[0;34m.\u001b[0m\u001b[0msleep\u001b[0m\u001b[0;34m(\u001b[0m\u001b[0;36m60\u001b[0m\u001b[0;34m)\u001b[0m\u001b[0;34m\u001b[0m\u001b[0;34m\u001b[0m\u001b[0m\n\u001b[0m\u001b[1;32m     12\u001b[0m     \u001b[0mprint\u001b[0m\u001b[0;34m(\u001b[0m\u001b[0;34m\"Hii after sleep\"\u001b[0m\u001b[0;34m)\u001b[0m\u001b[0;34m\u001b[0m\u001b[0;34m\u001b[0m\u001b[0m\n",
      "\u001b[0;31mKeyboardInterrupt\u001b[0m: "
     ]
    }
   ],
   "source": [
    "while(True):\n",
    "    base_today = (datetime.datetime.today()).strftime(\"%d-%m-%Y\")\n",
    "    base_tomorrow = (datetime.datetime.today()+datetime.timedelta(days=1)).strftime(\"%d-%m-%Y\")\n",
    "    data_today  = fetchData('431203',base_today)\n",
    "    data_tomorrow  = fetchData('431203',base_tomorrow)\n",
    "    jsonData = data_today.json()\n",
    "    create_msg(base_today,jsonData)\n",
    "    jsonData = data_tomorrow.json()\n",
    "    create_msg(data_tomorrow,jsonData)\n",
    "    time.sleep(60)"
   ]
  },
  {
   "cell_type": "code",
   "execution_count": null,
   "metadata": {},
   "outputs": [],
   "source": [
    "#s.quit()"
   ]
  }
 ],
 "metadata": {
  "kernelspec": {
   "display_name": "Python 3",
   "language": "python",
   "name": "python3"
  },
  "language_info": {
   "codemirror_mode": {
    "name": "ipython",
    "version": 3
   },
   "file_extension": ".py",
   "mimetype": "text/x-python",
   "name": "python",
   "nbconvert_exporter": "python",
   "pygments_lexer": "ipython3",
   "version": "3.7.3"
  }
 },
 "nbformat": 4,
 "nbformat_minor": 4
}
